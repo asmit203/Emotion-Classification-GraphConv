{
 "cells": [
  {
   "cell_type": "code",
   "execution_count": null,
   "metadata": {},
   "outputs": [],
   "source": [
    "import spacy\n",
    "import json\n",
    "\n",
    "# Load spaCy's English model.\n",
    "nlp = spacy.load(\"en_core_web_sm\")\n",
    "\n",
    "from utils import *\n",
    "\n",
    "\n",
    "# def split_into_clauses(utterance):\n",
    "#     \"\"\"\n",
    "#     Process an utterance using spaCy to first segment it into sentences, \n",
    "#     then split each sentence into clauses using dependency-based boundaries.\n",
    "#     \"\"\"\n",
    "#     doc = nlp(utterance)\n",
    "#     clauses = []\n",
    "\n",
    "#     for sent in doc.sents:\n",
    "#         # tk = [token.text for token in sent]\n",
    "#         # print(tk)\n",
    "#         sent_clauses = split_sentence_into_clauses(sent)\n",
    "#         clauses.extend(sent_clauses)\n",
    "#     return clauses\n"
   ]
  },
  {
   "cell_type": "code",
   "execution_count": 2,
   "metadata": {},
   "outputs": [],
   "source": [
    "process_reccon_data('../dailydialog_train.json', 'dailydialog_train_clauses_aritra.json')"
   ]
  }
 ],
 "metadata": {
  "kernelspec": {
   "display_name": "nlp",
   "language": "python",
   "name": "python3"
  },
  "language_info": {
   "codemirror_mode": {
    "name": "ipython",
    "version": 3
   },
   "file_extension": ".py",
   "mimetype": "text/x-python",
   "name": "python",
   "nbconvert_exporter": "python",
   "pygments_lexer": "ipython3",
   "version": "3.9.0"
  }
 },
 "nbformat": 4,
 "nbformat_minor": 2
}
